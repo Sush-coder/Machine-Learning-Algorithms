{
 "cells": [
  {
   "cell_type": "markdown",
   "metadata": {},
   "source": [
    "# IMPLEMENTING DECISION TREE CLASSIFIER USING ID3 ALGORITHM FROM SCRATCH AND APPLYING IT ON THE IRIS DATASET"
   ]
  },
  {
   "cell_type": "markdown",
   "metadata": {},
   "source": [
    "#### Hyper parameters are:\n",
    "#### criterion = ('entropy' , 'gini')\n",
    "#### min_samples = 2(default)\n",
    "#### max_depth = None(default)"
   ]
  },
  {
   "cell_type": "markdown",
   "metadata": {},
   "source": [
    "## Importing necessary libraries"
   ]
  },
  {
   "cell_type": "code",
   "execution_count": 3,
   "metadata": {},
   "outputs": [],
   "source": [
    "import numpy as np\n",
    "import pandas as pd\n",
    "from sklearn.model_selection import train_test_split\n",
    "from pprint import pprint\n",
    "from sklearn.preprocessing import LabelEncoder\n",
    "from sklearn.preprocessing import OrdinalEncoder"
   ]
  },
  {
   "cell_type": "code",
   "execution_count": 29,
   "metadata": {},
   "outputs": [],
   "source": [
    "class Decision_Tree_Classifier:\n",
    "    def __init__(self, criterion = 'entropy', min_samples = 2, max_depth = None):\n",
    "        self.criterion = criterion\n",
    "        self.min_samples = min_samples\n",
    "        self.max_depth = max_depth\n",
    "        print(f'Criterion: {self.criterion}')\n",
    "        print(f'Minimum samples for split: {self.min_samples}')\n",
    "        print(f'Maximum depth of Tree: {self.max_depth}')\n",
    "        \n",
    "    #function to fit the tree to the given data---------------------------------------------------------------------    \n",
    "    def fit(self, X, y):\n",
    "        self.tree = 0\n",
    "        self.depth = 0\n",
    "        self.X = X\n",
    "        self.y = y\n",
    "        data = np.concatenate([self.X, self.y.reshape(1,-1).T], axis = 1)\n",
    "        return pprint(self.create_tree(data))\n",
    "        \n",
    "\n",
    "    #function to calculate the entropy for a dataset or subset------------------------------------------------------\n",
    "    def entropy(self, data):\n",
    "        label_column = data[:,-1]\n",
    "        data_labels, counts_label = np.unique(label_column, return_counts = True)\n",
    "        \n",
    "        return sum(counts_label/sum(counts_label) * - np.log2(counts_label/sum(counts_label)))\n",
    "        \n",
    "        \n",
    "\n",
    "    #function to check if the class distribution is homogenious or not----------------------------------------------\n",
    "    def check_purity(self, data):\n",
    "        label_column = data[:,-1]\n",
    "        data_labels, counts_label = np.unique(label_column, return_counts = True)\n",
    "        \n",
    "        if len(data_labels) == 1:\n",
    "            return True\n",
    "        else:\n",
    "            return False\n",
    "    \n",
    "    #function to return prevailing class label----------------------------------------------------------------------    \n",
    "    def classify(self,data):\n",
    "        label_column = data[:,-1]\n",
    "        data_labels, counts_label = np.unique(label_column, return_counts = True)\n",
    "        index = np.argmax(counts_label)\n",
    "        \n",
    "        return data_labels[index]\n",
    "    \n",
    "    #function to find the split values for the features in the given data------------------------------------------ \n",
    "    def potential_splits(self, data):\n",
    "        splits = {}\n",
    "    \n",
    "        _, features = data.shape\n",
    "        for column in range(features - 1):\n",
    "            unique_values = np.unique(data[:, column])\n",
    "            splits[column]=[]\n",
    "            for i in range(len(unique_values)-1):\n",
    "                splits[column].append((unique_values[i] + unique_values[i+1])/2)\n",
    "\n",
    "        return splits\n",
    "    \n",
    "    #funtion to split the dataset based on the potential splits----------------------------------------------------\n",
    "    def split_data(self, data, feature, attribute_split):\n",
    "        \n",
    "        data_above = data[data[:, feature] <= attribute_split ]\n",
    "        data_below = data[data[:, feature] > attribute_split ]\n",
    "        \n",
    "        return data_above, data_below\n",
    "    \n",
    "    #function the calculate the information gain-------------------------------------------------------------------\n",
    "    def information_gain(self, data_above, data_below, entropy):\n",
    "        total = len(data_above) + len(data_below)\n",
    "        p_data_below = len(data_below) / total\n",
    "        p_data_above = len(data_above) / total\n",
    "        entropy_after_split = p_data_above * self.entropy(data_above) + p_data_below * self.entropy(data_below)\n",
    "\n",
    "        return entropy - entropy_after_split\n",
    "        \n",
    "    #function to find the best splitting node in the decision tree-------------------------------------------------        \n",
    "    def best_split(self, data):\n",
    "        best_info_gain = None\n",
    "        best_feature = None\n",
    "        best_attribute = None\n",
    "        current_entropy = self.entropy(data)\n",
    "        splits = self.potential_splits(data)\n",
    "        for feature in splits:\n",
    "            for attribute_split in splits[feature]:\n",
    "                #split the data into two based on the current feature--------------------------------------------\n",
    "                data_above, data_below = self.split_data( data, feature, attribute_split)\n",
    "                #calulate information gain for each split \n",
    "                info_gain = self.information_gain(data_above, data_below, current_entropy)\n",
    "                #find the best feature and attribute value\n",
    "                if  best_info_gain == None or info_gain >= best_info_gain:\n",
    "                    best_info_gain = info_gain\n",
    "                    best_feature = feature\n",
    "                    best_attribute = attribute_split\n",
    "                    \n",
    "        return  best_feature, best_attribute\n",
    "    \n",
    "    #function to create a leaf node--------------------------------------------------------------------------------\n",
    "    def create_leaf(self, data):\n",
    "        leaf = self.classify(data)\n",
    "        return leaf\n",
    "    \n",
    "    #function to implement the decsion tree algorithm--------------------------------------------------------------\n",
    "    def create_tree(self, data):\n",
    "        # if data is pure or len(data) is lesser than minimum samples or depth == maxdepth, create a leaf node.\n",
    "        if self.check_purity(data) or len(data) < self.min_samples or self.depth == self.max_depth:\n",
    "            leaf = self.create_leaf(data)\n",
    "            return leaf\n",
    "        # if data is not pure, then recursively split the data until pure datasets are created\n",
    "        else:\n",
    "            #print('recurse')\n",
    "            best_feature, best_attribute = self.best_split(data)\n",
    "            data_left, data_right = self.split_data(data, best_feature, best_attribute)\n",
    "            #increase depth by 1 for every split\n",
    "            self.depth+=1\n",
    "            #create the tree\n",
    "            node = f'X[{best_feature}] <= {best_attribute}'\n",
    "            tree = {node:[]}\n",
    "\n",
    "            \n",
    "            If_true = self.create_tree(data_left)\n",
    "            If_false = self.create_tree(data_right)\n",
    "            \n",
    "            tree[node].append(If_true)\n",
    "            tree[node].append(If_false)\n",
    "            \n",
    "        self.tree = tree    \n",
    "        return self.tree\n",
    "    \n",
    "    #function to predict a sample---------------------------------------------------------------------------------            \n",
    "    def predict(self, sample, traverse = False):\n",
    "        if traverse == False:\n",
    "            traverse_tree = self.tree\n",
    "        else:\n",
    "            traverse_tree = traverse\n",
    "        \n",
    "        feature, equality, attribute = list(traverse_tree.keys())[0].split()\n",
    "        feature = int(feature[2:-1])\n",
    "        attribute = float(attribute)\n",
    "        node = list(traverse_tree.keys())[0]\n",
    "        \n",
    "        if sample[feature] <= attribute:\n",
    "            answer = traverse_tree[node][0]\n",
    "        else:\n",
    "            answer = traverse_tree[node][1]\n",
    "        \n",
    "        if not isinstance(answer, dict):\n",
    "            return answer\n",
    "        else:\n",
    "            traverse_tree = answer\n",
    "            return self.predict(sample, traverse = answer)\n",
    "            \n",
    "        \n",
    "    #function to calculate the accuracy of the model---------------------------------------------------------------    \n",
    "    def score( self, xtest, ytest):\n",
    "        correctly_predicted = 0\n",
    "        for test_query, test_label in zip(xtest, ytest):\n",
    "            if self.predict(test_query) == test_label:\n",
    "                correctly_predicted+=1\n",
    "        return correctly_predicted/ ytest.shape[0]  \n",
    "            "
   ]
  },
  {
   "cell_type": "markdown",
   "metadata": {},
   "source": [
    "## Let's use the playtennis dataset as a sample dataset"
   ]
  },
  {
   "cell_type": "code",
   "execution_count": 30,
   "metadata": {},
   "outputs": [
    {
     "data": {
      "text/html": [
       "<div>\n",
       "<style scoped>\n",
       "    .dataframe tbody tr th:only-of-type {\n",
       "        vertical-align: middle;\n",
       "    }\n",
       "\n",
       "    .dataframe tbody tr th {\n",
       "        vertical-align: top;\n",
       "    }\n",
       "\n",
       "    .dataframe thead th {\n",
       "        text-align: right;\n",
       "    }\n",
       "</style>\n",
       "<table border=\"1\" class=\"dataframe\">\n",
       "  <thead>\n",
       "    <tr style=\"text-align: right;\">\n",
       "      <th></th>\n",
       "      <th>outlook</th>\n",
       "      <th>temp</th>\n",
       "      <th>humidity</th>\n",
       "      <th>wind</th>\n",
       "      <th>play</th>\n",
       "    </tr>\n",
       "  </thead>\n",
       "  <tbody>\n",
       "    <tr>\n",
       "      <td>0</td>\n",
       "      <td>Sunny</td>\n",
       "      <td>Hot</td>\n",
       "      <td>High</td>\n",
       "      <td>Weak</td>\n",
       "      <td>No</td>\n",
       "    </tr>\n",
       "    <tr>\n",
       "      <td>1</td>\n",
       "      <td>Sunny</td>\n",
       "      <td>Hot</td>\n",
       "      <td>High</td>\n",
       "      <td>Strong</td>\n",
       "      <td>No</td>\n",
       "    </tr>\n",
       "    <tr>\n",
       "      <td>2</td>\n",
       "      <td>Overcast</td>\n",
       "      <td>Hot</td>\n",
       "      <td>High</td>\n",
       "      <td>Weak</td>\n",
       "      <td>Yes</td>\n",
       "    </tr>\n",
       "    <tr>\n",
       "      <td>3</td>\n",
       "      <td>Rain</td>\n",
       "      <td>Mild</td>\n",
       "      <td>High</td>\n",
       "      <td>Weak</td>\n",
       "      <td>Yes</td>\n",
       "    </tr>\n",
       "    <tr>\n",
       "      <td>4</td>\n",
       "      <td>Rain</td>\n",
       "      <td>Cool</td>\n",
       "      <td>Normal</td>\n",
       "      <td>Weak</td>\n",
       "      <td>Yes</td>\n",
       "    </tr>\n",
       "    <tr>\n",
       "      <td>5</td>\n",
       "      <td>Rain</td>\n",
       "      <td>Cool</td>\n",
       "      <td>Normal</td>\n",
       "      <td>Strong</td>\n",
       "      <td>No</td>\n",
       "    </tr>\n",
       "    <tr>\n",
       "      <td>6</td>\n",
       "      <td>Overcast</td>\n",
       "      <td>Cool</td>\n",
       "      <td>Normal</td>\n",
       "      <td>Strong</td>\n",
       "      <td>Yes</td>\n",
       "    </tr>\n",
       "    <tr>\n",
       "      <td>7</td>\n",
       "      <td>Sunny</td>\n",
       "      <td>Mild</td>\n",
       "      <td>High</td>\n",
       "      <td>Weak</td>\n",
       "      <td>No</td>\n",
       "    </tr>\n",
       "    <tr>\n",
       "      <td>8</td>\n",
       "      <td>Sunny</td>\n",
       "      <td>Cool</td>\n",
       "      <td>Normal</td>\n",
       "      <td>Weak</td>\n",
       "      <td>Yes</td>\n",
       "    </tr>\n",
       "    <tr>\n",
       "      <td>9</td>\n",
       "      <td>Rain</td>\n",
       "      <td>Mild</td>\n",
       "      <td>Normal</td>\n",
       "      <td>Weak</td>\n",
       "      <td>Yes</td>\n",
       "    </tr>\n",
       "    <tr>\n",
       "      <td>10</td>\n",
       "      <td>Sunny</td>\n",
       "      <td>Mild</td>\n",
       "      <td>Normal</td>\n",
       "      <td>Strong</td>\n",
       "      <td>Yes</td>\n",
       "    </tr>\n",
       "    <tr>\n",
       "      <td>11</td>\n",
       "      <td>Overcast</td>\n",
       "      <td>Mild</td>\n",
       "      <td>High</td>\n",
       "      <td>Strong</td>\n",
       "      <td>Yes</td>\n",
       "    </tr>\n",
       "    <tr>\n",
       "      <td>12</td>\n",
       "      <td>Overcast</td>\n",
       "      <td>Hot</td>\n",
       "      <td>Normal</td>\n",
       "      <td>Weak</td>\n",
       "      <td>Yes</td>\n",
       "    </tr>\n",
       "    <tr>\n",
       "      <td>13</td>\n",
       "      <td>Rain</td>\n",
       "      <td>Mild</td>\n",
       "      <td>High</td>\n",
       "      <td>Strong</td>\n",
       "      <td>No</td>\n",
       "    </tr>\n",
       "  </tbody>\n",
       "</table>\n",
       "</div>"
      ],
      "text/plain": [
       "     outlook  temp humidity    wind play\n",
       "0      Sunny   Hot     High    Weak   No\n",
       "1      Sunny   Hot     High  Strong   No\n",
       "2   Overcast   Hot     High    Weak  Yes\n",
       "3       Rain  Mild     High    Weak  Yes\n",
       "4       Rain  Cool   Normal    Weak  Yes\n",
       "5       Rain  Cool   Normal  Strong   No\n",
       "6   Overcast  Cool   Normal  Strong  Yes\n",
       "7      Sunny  Mild     High    Weak   No\n",
       "8      Sunny  Cool   Normal    Weak  Yes\n",
       "9       Rain  Mild   Normal    Weak  Yes\n",
       "10     Sunny  Mild   Normal  Strong  Yes\n",
       "11  Overcast  Mild     High  Strong  Yes\n",
       "12  Overcast   Hot   Normal    Weak  Yes\n",
       "13      Rain  Mild     High  Strong   No"
      ]
     },
     "execution_count": 30,
     "metadata": {},
     "output_type": "execute_result"
    }
   ],
   "source": [
    "tennis = pd.read_csv('play_tennis.csv')\n",
    "tennis = tennis.drop('day', axis =1)\n",
    "tennis"
   ]
  },
  {
   "cell_type": "markdown",
   "metadata": {},
   "source": [
    "## preprocess the data "
   ]
  },
  {
   "cell_type": "code",
   "execution_count": 31,
   "metadata": {},
   "outputs": [
    {
     "data": {
      "text/plain": [
       "array([[2., 1., 0., 1., 0.],\n",
       "       [2., 1., 0., 0., 0.],\n",
       "       [0., 1., 0., 1., 1.],\n",
       "       [1., 2., 0., 1., 1.],\n",
       "       [1., 0., 1., 1., 1.],\n",
       "       [1., 0., 1., 0., 0.],\n",
       "       [0., 0., 1., 0., 1.],\n",
       "       [2., 2., 0., 1., 0.],\n",
       "       [2., 0., 1., 1., 1.],\n",
       "       [1., 2., 1., 1., 1.],\n",
       "       [2., 2., 1., 0., 1.],\n",
       "       [0., 2., 0., 0., 1.],\n",
       "       [0., 1., 1., 1., 1.],\n",
       "       [1., 2., 0., 0., 0.]])"
      ]
     },
     "execution_count": 31,
     "metadata": {},
     "output_type": "execute_result"
    }
   ],
   "source": [
    "clf = OrdinalEncoder()\n",
    "data = clf.fit_transform(tennis)\n",
    "data"
   ]
  },
  {
   "cell_type": "markdown",
   "metadata": {},
   "source": [
    "## Let's instantiate the classifier"
   ]
  },
  {
   "cell_type": "code",
   "execution_count": 32,
   "metadata": {},
   "outputs": [
    {
     "name": "stdout",
     "output_type": "stream",
     "text": [
      "Criterion: entropy\n",
      "Minimum samples for split: 2\n",
      "Maximum depth of Tree: None\n"
     ]
    }
   ],
   "source": [
    "clf = Decision_Tree_Classifier(criterion = 'entropy', min_samples = 2, max_depth = None)"
   ]
  },
  {
   "cell_type": "markdown",
   "metadata": {},
   "source": [
    "## Verifying the methods"
   ]
  },
  {
   "cell_type": "code",
   "execution_count": 33,
   "metadata": {},
   "outputs": [
    {
     "data": {
      "text/plain": [
       "False"
      ]
     },
     "execution_count": 33,
     "metadata": {},
     "output_type": "execute_result"
    }
   ],
   "source": [
    "clf.check_purity(data)"
   ]
  },
  {
   "cell_type": "code",
   "execution_count": 34,
   "metadata": {},
   "outputs": [
    {
     "data": {
      "text/plain": [
       "0.9402859586706309"
      ]
     },
     "execution_count": 34,
     "metadata": {},
     "output_type": "execute_result"
    }
   ],
   "source": [
    "clf.entropy(data)"
   ]
  },
  {
   "cell_type": "code",
   "execution_count": 35,
   "metadata": {},
   "outputs": [
    {
     "data": {
      "text/plain": [
       "1.0"
      ]
     },
     "execution_count": 35,
     "metadata": {},
     "output_type": "execute_result"
    }
   ],
   "source": [
    "clf.classify(data)"
   ]
  },
  {
   "cell_type": "code",
   "execution_count": 36,
   "metadata": {},
   "outputs": [
    {
     "data": {
      "text/plain": [
       "{0: [0.5, 1.5], 1: [0.5, 1.5], 2: [0.5], 3: [0.5]}"
      ]
     },
     "execution_count": 36,
     "metadata": {},
     "output_type": "execute_result"
    }
   ],
   "source": [
    "clf.potential_splits(data)"
   ]
  },
  {
   "cell_type": "code",
   "execution_count": 37,
   "metadata": {},
   "outputs": [
    {
     "data": {
      "text/plain": [
       "(0, 0.5)"
      ]
     },
     "execution_count": 37,
     "metadata": {},
     "output_type": "execute_result"
    }
   ],
   "source": [
    "# best feature is 0th feature in the data and best attribute is X[0] <= 0.5\n",
    "clf.best_split(data)"
   ]
  },
  {
   "cell_type": "markdown",
   "metadata": {},
   "source": [
    "## Let's fit our model to the data"
   ]
  },
  {
   "cell_type": "code",
   "execution_count": 38,
   "metadata": {},
   "outputs": [
    {
     "name": "stdout",
     "output_type": "stream",
     "text": [
      "[[2. 1. 0. 1.]\n",
      " [2. 1. 0. 0.]\n",
      " [0. 1. 0. 1.]\n",
      " [1. 2. 0. 1.]\n",
      " [1. 0. 1. 1.]\n",
      " [1. 0. 1. 0.]\n",
      " [0. 0. 1. 0.]\n",
      " [2. 2. 0. 1.]\n",
      " [2. 0. 1. 1.]\n",
      " [1. 2. 1. 1.]\n",
      " [2. 2. 1. 0.]\n",
      " [0. 2. 0. 0.]\n",
      " [0. 1. 1. 1.]\n",
      " [1. 2. 0. 0.]] [0. 0. 1. 1. 1. 0. 1. 0. 1. 1. 1. 1. 1. 0.]\n"
     ]
    }
   ],
   "source": [
    "X= data[:,:-1]\n",
    "y =data[:, -1]\n",
    "print(X, y)"
   ]
  },
  {
   "cell_type": "code",
   "execution_count": 39,
   "metadata": {},
   "outputs": [
    {
     "name": "stdout",
     "output_type": "stream",
     "text": [
      "{'X[0] <= 0.5': [1.0,\n",
      "                 {'X[2] <= 0.5': [{'X[0] <= 1.5': [{'X[3] <= 0.5': [0.0, 1.0]},\n",
      "                                                   0.0]},\n",
      "                                  {'X[3] <= 0.5': [{'X[1] <= 1.0': [0.0, 1.0]},\n",
      "                                                   1.0]}]}]}\n"
     ]
    }
   ],
   "source": [
    "# returns the final tree in the form of a dictionary. \n",
    "# each subtree is enclosed within a dictionary and the child nodes are enclosed within the list\n",
    "clf.fit(X, y)"
   ]
  },
  {
   "cell_type": "markdown",
   "metadata": {},
   "source": [
    "## Accuracy "
   ]
  },
  {
   "cell_type": "code",
   "execution_count": 40,
   "metadata": {},
   "outputs": [
    {
     "name": "stdout",
     "output_type": "stream",
     "text": [
      "[[2. 2. 1. 0.]\n",
      " [0. 2. 0. 0.]\n",
      " [0. 1. 1. 1.]\n",
      " [1. 2. 0. 0.]] [1. 1. 1. 0.]\n"
     ]
    }
   ],
   "source": [
    "Xtest= data[-4:,:-1]\n",
    "ytest =data[-4:, -1]\n",
    "print(Xtest, ytest)"
   ]
  },
  {
   "cell_type": "code",
   "execution_count": 41,
   "metadata": {},
   "outputs": [
    {
     "data": {
      "text/plain": [
       "1.0"
      ]
     },
     "execution_count": 41,
     "metadata": {},
     "output_type": "execute_result"
    }
   ],
   "source": [
    "clf.score(Xtest, ytest)"
   ]
  },
  {
   "cell_type": "markdown",
   "metadata": {},
   "source": [
    "## Let's now import the Iris dataset"
   ]
  },
  {
   "cell_type": "code",
   "execution_count": 42,
   "metadata": {},
   "outputs": [],
   "source": [
    "from sklearn.datasets import load_iris\n",
    "from sklearn.model_selection import train_test_split\n",
    "iris_data = load_iris()\n",
    "iris_features = iris_data.data\n",
    "iris_target = iris_data.target"
   ]
  },
  {
   "cell_type": "code",
   "execution_count": 43,
   "metadata": {},
   "outputs": [
    {
     "data": {
      "text/plain": [
       "array([[5.1, 3.5, 1.4, 0.2],\n",
       "       [4.9, 3. , 1.4, 0.2],\n",
       "       [4.7, 3.2, 1.3, 0.2],\n",
       "       [4.6, 3.1, 1.5, 0.2],\n",
       "       [5. , 3.6, 1.4, 0.2]])"
      ]
     },
     "execution_count": 43,
     "metadata": {},
     "output_type": "execute_result"
    }
   ],
   "source": [
    "# sepal_length, sepal_width, petal_length, petal_width\n",
    "iris_features[:5,:]"
   ]
  },
  {
   "cell_type": "code",
   "execution_count": 44,
   "metadata": {},
   "outputs": [
    {
     "data": {
      "text/plain": [
       "array([0, 0, 0, 0, 0, 0, 0, 0, 0, 0, 0, 0, 0, 0, 0, 0, 0, 0, 0, 0, 0, 0,\n",
       "       0, 0, 0, 0, 0, 0, 0, 0, 0, 0, 0, 0, 0, 0, 0, 0, 0, 0, 0, 0, 0, 0,\n",
       "       0, 0, 0, 0, 0, 0, 1, 1, 1, 1, 1, 1, 1, 1, 1, 1, 1, 1, 1, 1, 1, 1,\n",
       "       1, 1, 1, 1, 1, 1, 1, 1, 1, 1, 1, 1, 1, 1, 1, 1, 1, 1, 1, 1, 1, 1,\n",
       "       1, 1, 1, 1, 1, 1, 1, 1, 1, 1, 1, 1, 2, 2, 2, 2, 2, 2, 2, 2, 2, 2,\n",
       "       2, 2, 2, 2, 2, 2, 2, 2, 2, 2, 2, 2, 2, 2, 2, 2, 2, 2, 2, 2, 2, 2,\n",
       "       2, 2, 2, 2, 2, 2, 2, 2, 2, 2, 2, 2, 2, 2, 2, 2, 2, 2])"
      ]
     },
     "execution_count": 44,
     "metadata": {},
     "output_type": "execute_result"
    }
   ],
   "source": [
    "# 0 = setosa, 1 = versicolor, 2 = virginica\n",
    "iris_target"
   ]
  },
  {
   "cell_type": "code",
   "execution_count": 45,
   "metadata": {},
   "outputs": [],
   "source": [
    "X_train, X_test, y_train, y_test = train_test_split(iris_features, iris_target, test_size=0.2, random_state = 1)"
   ]
  },
  {
   "cell_type": "code",
   "execution_count": 46,
   "metadata": {},
   "outputs": [
    {
     "name": "stdout",
     "output_type": "stream",
     "text": [
      "Criterion: entropy\n",
      "Minimum samples for split: 2\n",
      "Maximum depth of Tree: None\n"
     ]
    }
   ],
   "source": [
    "model = Decision_Tree_Classifier(criterion = 'entropy', min_samples = 2, max_depth = None)"
   ]
  },
  {
   "cell_type": "code",
   "execution_count": 47,
   "metadata": {},
   "outputs": [
    {
     "name": "stdout",
     "output_type": "stream",
     "text": [
      "{'X[3] <= 0.8': [0.0,\n",
      "                 {'X[3] <= 1.65': [{'X[2] <= 4.95': [1.0,\n",
      "                                                     {'X[3] <= 1.55': [2.0,\n",
      "                                                                       {'X[2] <= 5.449999999999999': [1.0,\n",
      "                                                                                                      2.0]}]}]},\n",
      "                                   {'X[2] <= 4.85': [{'X[1] <= 3.1': [2.0,\n",
      "                                                                      1.0]},\n",
      "                                                     2.0]}]}]}\n"
     ]
    }
   ],
   "source": [
    "# final tree for iris data_set\n",
    "model.fit(X_train, y_train)"
   ]
  },
  {
   "cell_type": "code",
   "execution_count": 48,
   "metadata": {},
   "outputs": [
    {
     "data": {
      "text/plain": [
       "0.9666666666666667"
      ]
     },
     "execution_count": 48,
     "metadata": {},
     "output_type": "execute_result"
    }
   ],
   "source": [
    "model.score(X_test, y_test)"
   ]
  },
  {
   "cell_type": "markdown",
   "metadata": {},
   "source": [
    "## Verifying with sklearn's DecisionTree model"
   ]
  },
  {
   "cell_type": "code",
   "execution_count": 49,
   "metadata": {},
   "outputs": [],
   "source": [
    "from sklearn.tree import DecisionTreeClassifier\n",
    "from sklearn import tree\n",
    "import pandas as pd\n",
    "import numpy as np\n",
    "from sklearn import metrics\n",
    "from sklearn.tree import export_graphviz\n",
    "from sklearn.preprocessing import OrdinalEncoder\n",
    "import graphviz\n",
    "from sklearn.datasets import load_iris\n",
    "from sklearn.model_selection import train_test_split\n",
    "import matplotlib.pyplot as plt\n",
    "\n",
    "\n",
    "iris_data = load_iris()\n",
    "iris_features = iris_data.data\n",
    "iris_target = iris_data.target\n",
    "\n",
    "X_train, X_test, y_train, y_test = train_test_split(iris_features, iris_target, test_size=0.2, random_state = 1)\n",
    "\n",
    "tree1 = DecisionTreeClassifier(criterion = 'entropy').fit(X_train, y_train)"
   ]
  },
  {
   "cell_type": "code",
   "execution_count": 50,
   "metadata": {},
   "outputs": [
    {
     "data": {
      "text/plain": [
       "0.9666666666666667"
      ]
     },
     "execution_count": 50,
     "metadata": {},
     "output_type": "execute_result"
    }
   ],
   "source": [
    "tree1.score(X_test, y_test)"
   ]
  },
  {
   "cell_type": "markdown",
   "metadata": {},
   "source": [
    "## Now let's display the decision tree for the above model using graphviz and tree_plot"
   ]
  },
  {
   "cell_type": "code",
   "execution_count": 51,
   "metadata": {},
   "outputs": [],
   "source": [
    "#Creates a dot file in the current directory\n",
    "export_graphviz(tree1, out_file=\"mytree.dot\")\n",
    "with open(\"mytree.dot\") as f:\n",
    "    dot_graph = f.read()\n",
    "graph = graphviz.Source(dot_graph)"
   ]
  },
  {
   "cell_type": "code",
   "execution_count": 52,
   "metadata": {},
   "outputs": [
    {
     "data": {
      "image/png": "[encoded data removed]",
      "text/plain": [
       "<Figure size 900x900 with 1 Axes>"
      ]
     },
     "metadata": {
      "needs_background": "light"
     },
     "output_type": "display_data"
    }
   ],
   "source": [
    "# Using the tree.plot_tree function to plot the decision tree with matplotlib\n",
    "fig, axes = plt.subplots(nrows = 1,ncols = 1,figsize = (3,3), dpi=300)\n",
    "tree.plot_tree(tree1, filled = True)\n",
    "fig.savefig('tree.png')"
   ]
  }
 ],
 "metadata": {
  "kernelspec": {
   "display_name": "Python 3",
   "language": "python",
   "name": "python3"
  },
  "language_info": {
   "codemirror_mode": {
    "name": "ipython",
    "version": 3
   },
   "file_extension": ".py",
   "mimetype": "text/x-python",
   "name": "python",
   "nbconvert_exporter": "python",
   "pygments_lexer": "ipython3",
   "version": "3.7.4"
  }
 },
 "nbformat": 4,
 "nbformat_minor": 2
}
