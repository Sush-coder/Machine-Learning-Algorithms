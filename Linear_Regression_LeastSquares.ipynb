{
 "cells": [
  {
   "cell_type": "markdown",
   "metadata": {},
   "source": [
    "## Implementing Linear regression using Least Squares Method"
   ]
  },
  {
   "cell_type": "code",
   "execution_count": 32,
   "metadata": {},
   "outputs": [],
   "source": [
    "from statistics import mean\n",
    "import numpy as np\n",
    "import matplotlib.pyplot as plt\n",
    "from matplotlib import style\n",
    "import random\n",
    "style.use('ggplot')\n",
    "\n",
    "# A function to create a set of data points for a given variance and correlation\n",
    "def dataset(data,variance,step=2,correlation=False):\n",
    "    value=1\n",
    "    ys=[]\n",
    "    for i in range(data):\n",
    "        a= random.randrange(-variance,variance) + value\n",
    "        ys.append(a)\n",
    "        if correlation and correlation=='pos':\n",
    "            value+=step\n",
    "        elif correlation and correlation=='neg':\n",
    "            value-=step\n",
    "    xs=[i for i in range(len(ys))]\n",
    "    return np.array(xs), np.array(ys)\n",
    "\n",
    "# 40 DATA POINTS, 25 VARIANCE, correlation strength = 2, positive correlation\n",
    "X,y=dataset(40,25,2,'pos')\n",
    "  "
   ]
  },
  {
   "cell_type": "code",
   "execution_count": 33,
   "metadata": {},
   "outputs": [
    {
     "data": {
      "text/plain": [
       "<matplotlib.collections.PathCollection at 0xb935510>"
      ]
     },
     "execution_count": 33,
     "metadata": {},
     "output_type": "execute_result"
    },
    {
     "data": {
      "image/png": "[encoded data removed]",
      "text/plain": [
       "<Figure size 576x432 with 1 Axes>"
      ]
     },
     "metadata": {},
     "output_type": "display_data"
    }
   ],
   "source": [
    "plt.figure(figsize=(8,6))\n",
    "plt.scatter(X,y)"
   ]
  },
  {
   "cell_type": "markdown",
   "metadata": {},
   "source": [
    "## The model for linear Regression is given by Y = mx + b:  m = Slope , b = Intercept ot bias\n",
    "\n",
    "#### m =  (N * Σ(xy) − Σx Σy) / (N * Σ(x2) − (Σx)2)\n",
    "#### b =  (Σy − m Σx) / N"
   ]
  },
  {
   "cell_type": "code",
   "execution_count": 34,
   "metadata": {},
   "outputs": [
    {
     "name": "stdout",
     "output_type": "stream",
     "text": [
      "Slope m: 2.0657894736842106\n",
      "Intercept b: -1.25\n"
     ]
    }
   ],
   "source": [
    "def slope_intercept(var1,var2):\n",
    "    m=( (mean(var1)*mean(var2))-mean(var1*var2) )/( (mean(var1)*mean(var1))-(mean(var1*var1)) )\n",
    "    b=mean(var2)-(m*mean(var1))\n",
    "    return m,b\n",
    "m, b=slope_intercept(X,y)\n",
    "print(\"Slope m:\",m)\n",
    "print(\"Intercept b:\", b)"
   ]
  },
  {
   "cell_type": "markdown",
   "metadata": {},
   "source": [
    "## Calculate the best fit line using m and b"
   ]
  },
  {
   "cell_type": "code",
   "execution_count": 48,
   "metadata": {},
   "outputs": [
    {
     "data": {
      "text/plain": [
       "[-1.25,\n",
       " 0.8157894736842106,\n",
       " 2.8815789473684212,\n",
       " 4.947368421052632,\n",
       " 7.0131578947368425,\n",
       " 9.078947368421053,\n",
       " 11.144736842105264,\n",
       " 13.210526315789474,\n",
       " 15.276315789473685,\n",
       " 17.342105263157897,\n",
       " 19.407894736842106,\n",
       " 21.473684210526315,\n",
       " 23.539473684210527,\n",
       " 25.60526315789474,\n",
       " 27.67105263157895,\n",
       " 29.736842105263158,\n",
       " 31.80263157894737,\n",
       " 33.86842105263158,\n",
       " 35.934210526315795,\n",
       " 38.0,\n",
       " 40.06578947368421,\n",
       " 42.131578947368425,\n",
       " 44.19736842105263,\n",
       " 46.26315789473684,\n",
       " 48.328947368421055,\n",
       " 50.39473684210527,\n",
       " 52.46052631578948,\n",
       " 54.526315789473685,\n",
       " 56.5921052631579,\n",
       " 58.65789473684211,\n",
       " 60.723684210526315,\n",
       " 62.789473684210535,\n",
       " 64.85526315789474,\n",
       " 66.92105263157895,\n",
       " 68.98684210526316,\n",
       " 71.05263157894737,\n",
       " 73.11842105263159,\n",
       " 75.1842105263158,\n",
       " 77.25,\n",
       " 79.31578947368422]"
      ]
     },
     "execution_count": 48,
     "metadata": {},
     "output_type": "execute_result"
    }
   ],
   "source": [
    "reg_line=[(m*x + b) for x in X]\n",
    "y_mean=[mean(y) for x in y]\n",
    "reg_line"
   ]
  },
  {
   "cell_type": "markdown",
   "metadata": {},
   "source": [
    "## Plot the regression line"
   ]
  },
  {
   "cell_type": "code",
   "execution_count": 49,
   "metadata": {},
   "outputs": [
    {
     "data": {
      "image/png": "[encoded data removed]",
      "text/plain": [
       "<Figure size 576x432 with 1 Axes>"
      ]
     },
     "metadata": {},
     "output_type": "display_data"
    }
   ],
   "source": [
    "plt.figure(figsize=(8,6))\n",
    "plt.scatter(X,y)\n",
    "plt.plot(X,y_mean,c='orange',label='Y mean')\n",
    "plt.plot(X,reg_line, c='b',label='Regression line')\n",
    "plt.legend()\n",
    "plt.show()"
   ]
  },
  {
   "cell_type": "markdown",
   "metadata": {},
   "source": [
    "## Computing Squared Error\n",
    "## Error = (y - y_pred)^2"
   ]
  },
  {
   "cell_type": "code",
   "execution_count": 50,
   "metadata": {},
   "outputs": [],
   "source": [
    "def squared_err(y,y_line):\n",
    "    return (sum((y-y_line)**2))"
   ]
  },
  {
   "cell_type": "markdown",
   "metadata": {},
   "source": [
    "### Squared error with respect to mean value of y"
   ]
  },
  {
   "cell_type": "code",
   "execution_count": 51,
   "metadata": {},
   "outputs": [
    {
     "data": {
      "text/plain": [
       "32458"
      ]
     },
     "execution_count": 51,
     "metadata": {},
     "output_type": "execute_result"
    }
   ],
   "source": [
    "squared_err(y,y_mean)"
   ]
  },
  {
   "cell_type": "markdown",
   "metadata": {},
   "source": [
    "### Squared error with respect to regression line"
   ]
  },
  {
   "cell_type": "code",
   "execution_count": 52,
   "metadata": {},
   "outputs": [
    {
     "data": {
      "text/plain": [
       "8493.42867036011"
      ]
     },
     "execution_count": 52,
     "metadata": {},
     "output_type": "execute_result"
    }
   ],
   "source": [
    "squared_err(y,reg_line)"
   ]
  },
  {
   "cell_type": "markdown",
   "metadata": {},
   "source": [
    "## Calculating R2 score which lies between 0 and 1. \n",
    "### 0 = no linear relationship, 1 = strong linear relationship\n",
    "### R2 = 1 - (SSR / SST)            \n",
    "#### SSR = sum of squared residuals,  SST = sum of squared Total Error"
   ]
  },
  {
   "cell_type": "code",
   "execution_count": 53,
   "metadata": {},
   "outputs": [
    {
     "data": {
      "text/plain": [
       "0.7383255693400669"
      ]
     },
     "execution_count": 53,
     "metadata": {},
     "output_type": "execute_result"
    }
   ],
   "source": [
    "r2= 1-(squared_err(y,reg_line)/squared_err(y,y_mean))\n",
    "r2"
   ]
  }
 ],
 "metadata": {
  "kernelspec": {
   "display_name": "Python 3",
   "language": "python",
   "name": "python3"
  },
  "language_info": {
   "codemirror_mode": {
    "name": "ipython",
    "version": 3
   },
   "file_extension": ".py",
   "mimetype": "text/x-python",
   "name": "python",
   "nbconvert_exporter": "python",
   "pygments_lexer": "ipython3",
   "version": "3.7.4"
  }
 },
 "nbformat": 4,
 "nbformat_minor": 2
}
