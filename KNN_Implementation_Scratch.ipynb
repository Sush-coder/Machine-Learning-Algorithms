{
 "cells": [
  {
   "cell_type": "markdown",
   "metadata": {},
   "source": [
    "## Implementation of  the KNN Algorithm from scratch and applying the same to the Breast Cancer Dataset. We will also look at a few methods to find the best value for K.\n",
    "\n",
    "### Hyperparameters:\n",
    "### k = Number of nearest neighbors (default = 3)\n",
    "### p = 2 for Euclidean Distance and 1 for Manhatten Distance. (default = 2)"
   ]
  },
  {
   "cell_type": "code",
   "execution_count": 54,
   "metadata": {},
   "outputs": [],
   "source": [
    "import pandas as pd\n",
    "import numpy as np\n",
    "import matplotlib.pyplot as plt\n",
    "from matplotlib import style\n",
    "from sklearn import neighbors\n",
    "from sklearn.model_selection import train_test_split\n",
    "import random\n",
    "from statistics import mean\n",
    "import seaborn as sns\n",
    "style.use('ggplot')\n",
    "plt.rcParams['figure.figsize'] = (8,6)"
   ]
  },
  {
   "cell_type": "code",
   "execution_count": 21,
   "metadata": {},
   "outputs": [],
   "source": [
    "class KNN_classifier:\n",
    "    #Constructor to initialize k and p----------------------------------------------------------------------------------\n",
    "    def __init__(self, k = 3, p = 2):\n",
    "        self.k = k\n",
    "        self.p = p\n",
    "        print('Nearest Neighbors k :', k)\n",
    "        if self.p == 2:\n",
    "            print(\"Distance Metric : Euclidean Distance\" )\n",
    "        if self.p == 1:\n",
    "            print(\"Distance Metric : Manhattan Distance\")\n",
    "    \n",
    "    #Fit---------------------------------------------------------------------------------------------------------------\n",
    "    def fit(self, X, y):\n",
    "        self.X = X\n",
    "        self.y = y\n",
    "\n",
    "    #Function to predict a query point for the given data--------------------------------------------------------------    \n",
    "    def predict(self, query):\n",
    "        self.distances=[]\n",
    "        self.neighbors={}\n",
    "        self.predict_label=None\n",
    "        self.big_count=0\n",
    "        \n",
    "        self.query = np.array(query)\n",
    "\n",
    "        if self.query.shape[0] == self.X.shape[1]:\n",
    "            #Calculating distance between Query point and data points\n",
    "            for input_, label in zip(self.X, self.y):\n",
    "                distance_value = np.linalg.norm( input_ - self.query, self.p )\n",
    "                self.distances.append((distance_value, label))\n",
    "            #Sorting the distances in ascending order\n",
    "            self.distances = sorted(self.distances)\n",
    "            #print(self.distances)\n",
    "            \n",
    "            #Counting the number of labels for the first k nearest distances\n",
    "            for distance_value, label in self.distances[:self.k]:\n",
    "                self.neighbors[label] = self.neighbors.get(label, 0) + 1\n",
    "            \n",
    "            #Assigning the label with the biggest count\n",
    "            for label, count in self.neighbors.items():\n",
    "                if self.big_count == 0 or count > self.big_count:\n",
    "                    self.big_count = count\n",
    "                    self.predict_label = int(label)\n",
    "            \n",
    "            return self.predict_label\n",
    "        \n",
    "        else:\n",
    "            print(f'Expected input size is {self.X.shape[1]}')\n",
    "    \n",
    "    #Function to calculate the accuracy score for a given set of points--------------------------------------------------\n",
    "    def score(self, X_test, y_test):\n",
    "        correctly_predicted = 0\n",
    "        for test_query, test_label in zip(X_test, y_test):\n",
    "            if self.predict(test_query) == test_label:\n",
    "                #print(self.predict(test_query),test_label)\n",
    "                correctly_predicted+=1\n",
    "        return correctly_predicted / y_test.shape[0]\n",
    "            \n",
    "    #Function to Plot 2D output for query point--------------------------------------------------------------------------------        \n",
    "    def plot(self,):\n",
    "        if self.X.shape[1] == 2:\n",
    "            plt.scatter(self.X[:,0], self.X[:,1], c = self.y[:], edgecolors='k', s =100)\n",
    "            plt.scatter(self.query[0], self.query[1], edgecolors='k', s =100, label = 'Query point')\n",
    "            plt.legend()\n",
    "            plt.show()     "
   ]
  },
  {
   "cell_type": "markdown",
   "metadata": {},
   "source": [
    "## Let's use it on a Sample Dataset"
   ]
  },
  {
   "cell_type": "code",
   "execution_count": 22,
   "metadata": {},
   "outputs": [
    {
     "data": {
      "text/plain": [
       "<matplotlib.collections.PathCollection at 0xe9f5590>"
      ]
     },
     "execution_count": 22,
     "metadata": {},
     "output_type": "execute_result"
    },
    {
     "data": {
      "image/png": "[encoded data removed]",
      "text/plain": [
       "<Figure size 576x432 with 1 Axes>"
      ]
     },
     "metadata": {},
     "output_type": "display_data"
    }
   ],
   "source": [
    "data =np.array([[1,2, 0],\n",
    "       [2,3, 0],\n",
    "       [1,4, 0],\n",
    "       [3,4, 0],\n",
    "       [2,4.5, 0],\n",
    "       [1.6,2.8, 0],\n",
    "       [2.5,5.2, 0],\n",
    "       [3.4,2.8, 0],\n",
    "       [6,5, 1],\n",
    "       [5,6, 1],\n",
    "       [7,6, 1],\n",
    "       [4.8,4.2, 1],\n",
    "       [5.2,4.4, 1],\n",
    "       [6.2,3.3, 1],\n",
    "       [5,3.8, 1]])\n",
    "\n",
    "X = data[:,:-1]\n",
    "y = data[:,-1]\n",
    "\n",
    "plt.scatter(X[:,0], X[:,1] , c = y[:],edgecolors='k', s =100)"
   ]
  },
  {
   "cell_type": "markdown",
   "metadata": {},
   "source": [
    "## Instantiating the classifier and predicting the label for a query point"
   ]
  },
  {
   "cell_type": "code",
   "execution_count": 23,
   "metadata": {},
   "outputs": [
    {
     "name": "stdout",
     "output_type": "stream",
     "text": [
      "Nearest Neighbors k : 10\n",
      "Distance Metric : Euclidean Distance\n"
     ]
    }
   ],
   "source": [
    "clf = KNN_classifier(k = 10)"
   ]
  },
  {
   "cell_type": "code",
   "execution_count": 24,
   "metadata": {},
   "outputs": [
    {
     "data": {
      "text/plain": [
       "1"
      ]
     },
     "execution_count": 24,
     "metadata": {},
     "output_type": "execute_result"
    }
   ],
   "source": [
    "clf.fit(X, y)\n",
    "clf.predict([4.8, 3])"
   ]
  },
  {
   "cell_type": "code",
   "execution_count": 25,
   "metadata": {},
   "outputs": [
    {
     "data": {
      "image/png": "[encoded data removed]",
      "text/plain": [
       "<Figure size 576x432 with 1 Axes>"
      ]
     },
     "metadata": {},
     "output_type": "display_data"
    }
   ],
   "source": [
    "clf.plot()"
   ]
  },
  {
   "cell_type": "markdown",
   "metadata": {},
   "source": [
    "## Let's now use the Breast Cancer Dataset."
   ]
  },
  {
   "cell_type": "code",
   "execution_count": 26,
   "metadata": {},
   "outputs": [
    {
     "data": {
      "text/html": [
       "<div>\n",
       "<style scoped>\n",
       "    .dataframe tbody tr th:only-of-type {\n",
       "        vertical-align: middle;\n",
       "    }\n",
       "\n",
       "    .dataframe tbody tr th {\n",
       "        vertical-align: top;\n",
       "    }\n",
       "\n",
       "    .dataframe thead th {\n",
       "        text-align: right;\n",
       "    }\n",
       "</style>\n",
       "<table border=\"1\" class=\"dataframe\">\n",
       "  <thead>\n",
       "    <tr style=\"text-align: right;\">\n",
       "      <th></th>\n",
       "      <th>clump_thickness</th>\n",
       "      <th>unif_cell_size</th>\n",
       "      <th>unif_shape</th>\n",
       "      <th>marg_adhesion</th>\n",
       "      <th>single_cell_size</th>\n",
       "      <th>bare_nuclei</th>\n",
       "      <th>bland_chrom</th>\n",
       "      <th>norm_nucleoli</th>\n",
       "      <th>mitosis</th>\n",
       "      <th>class</th>\n",
       "    </tr>\n",
       "  </thead>\n",
       "  <tbody>\n",
       "    <tr>\n",
       "      <td>0</td>\n",
       "      <td>5.0</td>\n",
       "      <td>1.0</td>\n",
       "      <td>1.0</td>\n",
       "      <td>1.0</td>\n",
       "      <td>2.0</td>\n",
       "      <td>1.0</td>\n",
       "      <td>3.0</td>\n",
       "      <td>1.0</td>\n",
       "      <td>1.0</td>\n",
       "      <td>2.0</td>\n",
       "    </tr>\n",
       "    <tr>\n",
       "      <td>1</td>\n",
       "      <td>5.0</td>\n",
       "      <td>4.0</td>\n",
       "      <td>4.0</td>\n",
       "      <td>5.0</td>\n",
       "      <td>7.0</td>\n",
       "      <td>10.0</td>\n",
       "      <td>3.0</td>\n",
       "      <td>2.0</td>\n",
       "      <td>1.0</td>\n",
       "      <td>2.0</td>\n",
       "    </tr>\n",
       "    <tr>\n",
       "      <td>2</td>\n",
       "      <td>3.0</td>\n",
       "      <td>1.0</td>\n",
       "      <td>1.0</td>\n",
       "      <td>1.0</td>\n",
       "      <td>2.0</td>\n",
       "      <td>2.0</td>\n",
       "      <td>3.0</td>\n",
       "      <td>1.0</td>\n",
       "      <td>1.0</td>\n",
       "      <td>2.0</td>\n",
       "    </tr>\n",
       "    <tr>\n",
       "      <td>3</td>\n",
       "      <td>6.0</td>\n",
       "      <td>8.0</td>\n",
       "      <td>8.0</td>\n",
       "      <td>1.0</td>\n",
       "      <td>3.0</td>\n",
       "      <td>4.0</td>\n",
       "      <td>3.0</td>\n",
       "      <td>7.0</td>\n",
       "      <td>1.0</td>\n",
       "      <td>2.0</td>\n",
       "    </tr>\n",
       "    <tr>\n",
       "      <td>4</td>\n",
       "      <td>4.0</td>\n",
       "      <td>1.0</td>\n",
       "      <td>1.0</td>\n",
       "      <td>3.0</td>\n",
       "      <td>2.0</td>\n",
       "      <td>1.0</td>\n",
       "      <td>3.0</td>\n",
       "      <td>1.0</td>\n",
       "      <td>1.0</td>\n",
       "      <td>2.0</td>\n",
       "    </tr>\n",
       "    <tr>\n",
       "      <td>...</td>\n",
       "      <td>...</td>\n",
       "      <td>...</td>\n",
       "      <td>...</td>\n",
       "      <td>...</td>\n",
       "      <td>...</td>\n",
       "      <td>...</td>\n",
       "      <td>...</td>\n",
       "      <td>...</td>\n",
       "      <td>...</td>\n",
       "      <td>...</td>\n",
       "    </tr>\n",
       "    <tr>\n",
       "      <td>694</td>\n",
       "      <td>3.0</td>\n",
       "      <td>1.0</td>\n",
       "      <td>1.0</td>\n",
       "      <td>1.0</td>\n",
       "      <td>3.0</td>\n",
       "      <td>2.0</td>\n",
       "      <td>1.0</td>\n",
       "      <td>1.0</td>\n",
       "      <td>1.0</td>\n",
       "      <td>2.0</td>\n",
       "    </tr>\n",
       "    <tr>\n",
       "      <td>695</td>\n",
       "      <td>2.0</td>\n",
       "      <td>1.0</td>\n",
       "      <td>1.0</td>\n",
       "      <td>1.0</td>\n",
       "      <td>2.0</td>\n",
       "      <td>1.0</td>\n",
       "      <td>1.0</td>\n",
       "      <td>1.0</td>\n",
       "      <td>1.0</td>\n",
       "      <td>2.0</td>\n",
       "    </tr>\n",
       "    <tr>\n",
       "      <td>696</td>\n",
       "      <td>5.0</td>\n",
       "      <td>10.0</td>\n",
       "      <td>10.0</td>\n",
       "      <td>3.0</td>\n",
       "      <td>7.0</td>\n",
       "      <td>3.0</td>\n",
       "      <td>8.0</td>\n",
       "      <td>10.0</td>\n",
       "      <td>2.0</td>\n",
       "      <td>4.0</td>\n",
       "    </tr>\n",
       "    <tr>\n",
       "      <td>697</td>\n",
       "      <td>4.0</td>\n",
       "      <td>8.0</td>\n",
       "      <td>6.0</td>\n",
       "      <td>4.0</td>\n",
       "      <td>3.0</td>\n",
       "      <td>4.0</td>\n",
       "      <td>10.0</td>\n",
       "      <td>6.0</td>\n",
       "      <td>1.0</td>\n",
       "      <td>4.0</td>\n",
       "    </tr>\n",
       "    <tr>\n",
       "      <td>698</td>\n",
       "      <td>4.0</td>\n",
       "      <td>8.0</td>\n",
       "      <td>8.0</td>\n",
       "      <td>5.0</td>\n",
       "      <td>4.0</td>\n",
       "      <td>5.0</td>\n",
       "      <td>10.0</td>\n",
       "      <td>4.0</td>\n",
       "      <td>1.0</td>\n",
       "      <td>4.0</td>\n",
       "    </tr>\n",
       "  </tbody>\n",
       "</table>\n",
       "<p>699 rows × 10 columns</p>\n",
       "</div>"
      ],
      "text/plain": [
       "     clump_thickness  unif_cell_size  unif_shape  marg_adhesion  \\\n",
       "0                5.0             1.0         1.0            1.0   \n",
       "1                5.0             4.0         4.0            5.0   \n",
       "2                3.0             1.0         1.0            1.0   \n",
       "3                6.0             8.0         8.0            1.0   \n",
       "4                4.0             1.0         1.0            3.0   \n",
       "..               ...             ...         ...            ...   \n",
       "694              3.0             1.0         1.0            1.0   \n",
       "695              2.0             1.0         1.0            1.0   \n",
       "696              5.0            10.0        10.0            3.0   \n",
       "697              4.0             8.0         6.0            4.0   \n",
       "698              4.0             8.0         8.0            5.0   \n",
       "\n",
       "     single_cell_size  bare_nuclei  bland_chrom  norm_nucleoli  mitosis  class  \n",
       "0                 2.0          1.0          3.0            1.0      1.0    2.0  \n",
       "1                 7.0         10.0          3.0            2.0      1.0    2.0  \n",
       "2                 2.0          2.0          3.0            1.0      1.0    2.0  \n",
       "3                 3.0          4.0          3.0            7.0      1.0    2.0  \n",
       "4                 2.0          1.0          3.0            1.0      1.0    2.0  \n",
       "..                ...          ...          ...            ...      ...    ...  \n",
       "694               3.0          2.0          1.0            1.0      1.0    2.0  \n",
       "695               2.0          1.0          1.0            1.0      1.0    2.0  \n",
       "696               7.0          3.0          8.0           10.0      2.0    4.0  \n",
       "697               3.0          4.0         10.0            6.0      1.0    4.0  \n",
       "698               4.0          5.0         10.0            4.0      1.0    4.0  \n",
       "\n",
       "[699 rows x 10 columns]"
      ]
     },
     "execution_count": 26,
     "metadata": {},
     "output_type": "execute_result"
    }
   ],
   "source": [
    "cancer=pd.read_csv('breast-cancer-wisconsin.data')\n",
    "cancer.replace('?',-9999,inplace=True)\n",
    "cancer.drop('id',1,inplace=True)\n",
    "cancer = cancer.astype(float)\n",
    "cancer"
   ]
  },
  {
   "cell_type": "code",
   "execution_count": 27,
   "metadata": {},
   "outputs": [
    {
     "data": {
      "text/plain": [
       "array([[ 5.,  1.,  1., ...,  3.,  1.,  1.],\n",
       "       [ 5.,  4.,  4., ...,  3.,  2.,  1.],\n",
       "       [ 3.,  1.,  1., ...,  3.,  1.,  1.],\n",
       "       ...,\n",
       "       [ 5., 10., 10., ...,  8., 10.,  2.],\n",
       "       [ 4.,  8.,  6., ..., 10.,  6.,  1.],\n",
       "       [ 4.,  8.,  8., ..., 10.,  4.,  1.]])"
      ]
     },
     "execution_count": 27,
     "metadata": {},
     "output_type": "execute_result"
    }
   ],
   "source": [
    "X=np.array(cancer.drop('class',1))\n",
    "X"
   ]
  },
  {
   "cell_type": "code",
   "execution_count": 28,
   "metadata": {},
   "outputs": [],
   "source": [
    "# class labels are 2 for 'Malignant' and 4 for 'Benign'\n",
    "y=np.array(cancer['class'])"
   ]
  },
  {
   "cell_type": "markdown",
   "metadata": {},
   "source": [
    "## Using train_test_split to measure accuracy of the model"
   ]
  },
  {
   "cell_type": "code",
   "execution_count": 29,
   "metadata": {},
   "outputs": [],
   "source": [
    "# random.shuffle(data)\n",
    "X_train, X_test, y_train, y_test = train_test_split(X,y, test_size=0.2, random_state = 2)"
   ]
  },
  {
   "cell_type": "code",
   "execution_count": 30,
   "metadata": {},
   "outputs": [
    {
     "name": "stdout",
     "output_type": "stream",
     "text": [
      "Nearest Neighbors k : 5\n",
      "Distance Metric : Euclidean Distance\n",
      "Nearest Neighbors k : 5\n",
      "Distance Metric : Manhattan Distance\n"
     ]
    }
   ],
   "source": [
    "# k = 5, p = 2 ; euclidean distance\n",
    "mod_euclidean = KNN_classifier(k = 5, p = 2)\n",
    "mod_manhattan = KNN_classifier(k = 5, p = 1)"
   ]
  },
  {
   "cell_type": "code",
   "execution_count": 31,
   "metadata": {},
   "outputs": [],
   "source": [
    "mod_euclidean.fit(X_train, y_train)\n",
    "mod_manhattan.fit(X_train, y_train)"
   ]
  },
  {
   "cell_type": "code",
   "execution_count": 32,
   "metadata": {},
   "outputs": [
    {
     "name": "stdout",
     "output_type": "stream",
     "text": [
      "Model accuracy using Euclidean Distance: 0.9785714285714285\n",
      "Model accuracy using Manhattan Distance: 0.9642857142857143\n"
     ]
    }
   ],
   "source": [
    "print('Model accuracy using Euclidean Distance:',mod_euclidean.score(X_test, y_test))\n",
    "print('Model accuracy using Manhattan Distance:', mod_manhattan.score(X_test, y_test))"
   ]
  },
  {
   "cell_type": "markdown",
   "metadata": {},
   "source": [
    "## Verifying the above model with scikit_learn's KNN classifier"
   ]
  },
  {
   "cell_type": "code",
   "execution_count": 34,
   "metadata": {},
   "outputs": [],
   "source": [
    "from sklearn.neighbors import KNeighborsClassifier\n",
    "\n",
    "KNN_euclidean = KNeighborsClassifier(n_neighbors = 5, p = 2)\n",
    "KNN_manhattan = KNeighborsClassifier(n_neighbors = 5, p = 1)"
   ]
  },
  {
   "cell_type": "code",
   "execution_count": 35,
   "metadata": {},
   "outputs": [],
   "source": [
    "X_train, X_test, y_train, y_test = train_test_split(X,y, test_size=0.2, random_state = 2)"
   ]
  },
  {
   "cell_type": "code",
   "execution_count": 36,
   "metadata": {},
   "outputs": [
    {
     "data": {
      "text/plain": [
       "KNeighborsClassifier(algorithm='auto', leaf_size=30, metric='minkowski',\n",
       "                     metric_params=None, n_jobs=None, n_neighbors=5, p=1,\n",
       "                     weights='uniform')"
      ]
     },
     "execution_count": 36,
     "metadata": {},
     "output_type": "execute_result"
    }
   ],
   "source": [
    "KNN_euclidean.fit(X_train, y_train)\n",
    "KNN_manhattan.fit(X_train, y_train)"
   ]
  },
  {
   "cell_type": "markdown",
   "metadata": {},
   "source": [
    "## Not Bad!!"
   ]
  },
  {
   "cell_type": "code",
   "execution_count": 37,
   "metadata": {},
   "outputs": [
    {
     "name": "stdout",
     "output_type": "stream",
     "text": [
      "Model accuracy using Euclidean Distance: 0.9785714285714285\n",
      "Model accuracy using Manhattan Distance: 0.9714285714285714\n"
     ]
    }
   ],
   "source": [
    "print('Model accuracy using Euclidean Distance:',KNN_euclidean.score(X_test, y_test))\n",
    "print('Model accuracy using Manhattan Distance:', KNN_manhattan.score(X_test, y_test))"
   ]
  },
  {
   "cell_type": "markdown",
   "metadata": {},
   "source": [
    "# Methods to find optimal value for k"
   ]
  },
  {
   "cell_type": "markdown",
   "metadata": {},
   "source": [
    "## Selecting k as sqrt(N) where N is the size of the dataset"
   ]
  },
  {
   "cell_type": "code",
   "execution_count": 38,
   "metadata": {},
   "outputs": [
    {
     "data": {
      "text/plain": [
       "559"
      ]
     },
     "execution_count": 38,
     "metadata": {},
     "output_type": "execute_result"
    }
   ],
   "source": [
    "N = len(X_train)\n",
    "N"
   ]
  },
  {
   "cell_type": "code",
   "execution_count": 39,
   "metadata": {},
   "outputs": [
    {
     "data": {
      "text/plain": [
       "23"
      ]
     },
     "execution_count": 39,
     "metadata": {},
     "output_type": "execute_result"
    }
   ],
   "source": [
    "optimal_k = int(np.floor(np.sqrt(N)))\n",
    "optimal_k"
   ]
  },
  {
   "cell_type": "code",
   "execution_count": 40,
   "metadata": {},
   "outputs": [
    {
     "data": {
      "text/plain": [
       "KNeighborsClassifier(algorithm='auto', leaf_size=30, metric='minkowski',\n",
       "                     metric_params=None, n_jobs=None, n_neighbors=23, p=2,\n",
       "                     weights='uniform')"
      ]
     },
     "execution_count": 40,
     "metadata": {},
     "output_type": "execute_result"
    }
   ],
   "source": [
    "from sklearn.neighbors import KNeighborsClassifier\n",
    "KNN_sqrt= KNeighborsClassifier(n_neighbors = 23, p = 2)\n",
    "KNN_sqrt.fit(X_train, y_train)"
   ]
  },
  {
   "cell_type": "code",
   "execution_count": 41,
   "metadata": {},
   "outputs": [
    {
     "name": "stdout",
     "output_type": "stream",
     "text": [
      "Model accuracy using k = 23: 0.9642857142857143\n"
     ]
    }
   ],
   "source": [
    "print(f'Model accuracy using k = {optimal_k}:',KNN_sqrt.score(X_test, y_test))"
   ]
  },
  {
   "cell_type": "markdown",
   "metadata": {},
   "source": [
    "## Applying K-Fold Cross Validation for different n_neighbor values"
   ]
  },
  {
   "cell_type": "code",
   "execution_count": 42,
   "metadata": {},
   "outputs": [
    {
     "data": {
      "text/plain": [
       "0.9715429505135387"
      ]
     },
     "execution_count": 42,
     "metadata": {},
     "output_type": "execute_result"
    }
   ],
   "source": [
    "from sklearn.model_selection import cross_val_score\n",
    "KNN_cv= KNeighborsClassifier(n_neighbors = 5, p = 2)\n",
    "scores = cross_val_score(KNN_cv, X, y, cv = 20)\n",
    "scores.mean()"
   ]
  },
  {
   "cell_type": "code",
   "execution_count": 65,
   "metadata": {},
   "outputs": [],
   "source": [
    "# function to plot the CV accuracy for 'k_value' neighbors and  returns the best  n_neighbor value for the model \n",
    "def CV_k_accuracy(k_value, cv_value, plot = False):\n",
    "    avg_scores=[]\n",
    "    for n in range(1,k_value+1):\n",
    "        KNN_cv= KNeighborsClassifier(n_neighbors = n, p = 2)\n",
    "        score = cross_val_score(KNN_cv, X, y, cv = cv_value)\n",
    "        avg_scores.append(score.mean())\n",
    "    if plot == True:\n",
    "        plt.scatter(list(range(1,k_value+1)), avg_scores)\n",
    "        plt.plot(list(range(1,k_value+1)), avg_scores)\n",
    "        plt.xlabel('n_neighbors value')\n",
    "        plt.ylabel(f'{cv_value} fold CV Accuracy')\n",
    "        plt.show()\n",
    "    return np.argmax(np.array(avg_scores)) + 1        "
   ]
  },
  {
   "cell_type": "markdown",
   "metadata": {},
   "source": [
    "## We can conclude that we get the highest accuracy at n_neighbors = 5"
   ]
  },
  {
   "cell_type": "code",
   "execution_count": 67,
   "metadata": {},
   "outputs": [
    {
     "data": {
      "image/png": "[encoded data removed]",
      "text/plain": [
       "<Figure size 576x432 with 1 Axes>"
      ]
     },
     "metadata": {},
     "output_type": "display_data"
    },
    {
     "data": {
      "text/plain": [
       "5"
      ]
     },
     "execution_count": 67,
     "metadata": {},
     "output_type": "execute_result"
    }
   ],
   "source": [
    "# finding the best n_neighbor value for the model for cv = 20\n",
    "CV_k_accuracy(50, 20, True)"
   ]
  },
  {
   "cell_type": "code",
   "execution_count": 61,
   "metadata": {},
   "outputs": [
    {
     "data": {
      "text/plain": [
       "0.9715429505135387"
      ]
     },
     "execution_count": 61,
     "metadata": {},
     "output_type": "execute_result"
    }
   ],
   "source": [
    "KNN_cv= KNeighborsClassifier(n_neighbors = CV_k_accuracy(50, 20, False), p = 2)\n",
    "scores = cross_val_score(KNN_cv, X, y, cv = 20)\n",
    "scores.mean()"
   ]
  },
  {
   "cell_type": "markdown",
   "metadata": {},
   "source": [
    "## Comparing both the methods"
   ]
  },
  {
   "cell_type": "code",
   "execution_count": 69,
   "metadata": {},
   "outputs": [
    {
     "name": "stdout",
     "output_type": "stream",
     "text": [
      "Model accuracy using sqrt(N) = 23: 0.9642857142857143\n",
      "Model accuracy using K_Fold_Cross_validation at n_neighbors = 5: 0.9715429505135387\n"
     ]
    }
   ],
   "source": [
    "print(f'Model accuracy using sqrt(N) = {optimal_k}:',KNN_sqrt.score(X_test, y_test))\n",
    "print(f'Model accuracy using K_Fold_Cross_validation at n_neighbors = {CV_k_accuracy(50, 20, False)}: {scores.mean()}')"
   ]
  }
 ],
 "metadata": {
  "kernelspec": {
   "display_name": "Python 3",
   "language": "python",
   "name": "python3"
  },
  "language_info": {
   "codemirror_mode": {
    "name": "ipython",
    "version": 3
   },
   "file_extension": ".py",
   "mimetype": "text/x-python",
   "name": "python",
   "nbconvert_exporter": "python",
   "pygments_lexer": "ipython3",
   "version": "3.7.4"
  }
 },
 "nbformat": 4,
 "nbformat_minor": 2
}
